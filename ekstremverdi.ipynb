{
 "cells": [
  {
   "cell_type": "markdown",
   "metadata": {},
   "source": [
    "Arket rekner ut ekstremverdier for klimadata. Koden er "
   ]
  },
  {
   "cell_type": "code",
   "execution_count": 1,
   "metadata": {},
   "outputs": [],
   "source": [
    "# Fetch code:\n",
    "#source(\"http://folk.uio.no/trondr/R/gev_colestawn_prior_with_sep_gev_dist.R\")\n",
    "source(\"C:/R/gev_colestawn_prior_with_sep_gev_dist.R\")\n"
   ]
  },
  {
   "cell_type": "code",
   "execution_count": 2,
   "metadata": {},
   "outputs": [],
   "source": [
    "y=scan(\"C:/Users/jan.aalbu/OneDrive - Asplan Viak/Koding/Ekstremverdier/snomax.txt\")"
   ]
  },
  {
   "cell_type": "code",
   "execution_count": 3,
   "metadata": {},
   "outputs": [],
   "source": [
    "r=gev.ksidist.result(y,ksi.lower=0.028,ksi.upper=0.062)\n",
    "# gev.ksi.result takes an array of yearly maximums and\n",
    "# returns a list of properties found, that can be used in the\n",
    "# methods gev.returnvalue.meanpar,\n",
    "# gev.returnvalue.medianpar, gev.returnvalue.quantile\n",
    "# and gev.returnvalue.mean.\n",
    "# It has the following options:\n",
    "# T10.95.lower: Lower limit in the prior of the 95% credibility band for the 10\n",
    "# year return value (T10). Default:3\n",
    "# T10.95.upper: Upper limit in the prior of the 95% credibility band for the 10\n",
    "# year return value (T10). Default:600\n",
    "# T100_T10.95.lower: Lower limit in the prior for the 95% credibility band of\n",
    "# T100-T10. Default:3\n",
    "# T100_T10.95.upper: Upper limit in the prior for the 95% credibility band of\n",
    "# T100-T10. Default:600\n",
    "# mcmc.numsamples: Number of MCMC samples. Default:1000\n",
    "# mcmc.burnin: Number of bunr-in samples. Default:10000\n",
    "# mcmc.spacing: Number of MCMC iterations between each sample. Default:10\n",
    "# mcmc.numtemp: Number of tempering chains used in the MCMC algorithm."
   ]
  },
  {
   "cell_type": "code",
   "execution_count": 4,
   "metadata": {},
   "outputs": [
    {
     "name": "stdout",
     "output_type": "stream",
     "text": [
      "[1] \"100 års returverdi\"\n"
     ]
    },
    {
     "data": {
      "text/html": [
       "648.757402875971"
      ],
      "text/latex": [
       "648.757402875971"
      ],
      "text/markdown": [
       "648.757402875971"
      ],
      "text/plain": [
       "[1] 648.7574"
      ]
     },
     "metadata": {},
     "output_type": "display_data"
    },
    {
     "name": "stdout",
     "output_type": "stream",
     "text": [
      "[1] \"1000 års returverdi\"\n"
     ]
    },
    {
     "data": {
      "text/html": [
       "880.37134632438"
      ],
      "text/latex": [
       "880.37134632438"
      ],
      "text/markdown": [
       "880.37134632438"
      ],
      "text/plain": [
       "[1] 880.3713"
      ]
     },
     "metadata": {},
     "output_type": "display_data"
    },
    {
     "name": "stdout",
     "output_type": "stream",
     "text": [
      "[1] \"5000 års returverdi\"\n"
     ]
    },
    {
     "data": {
      "text/html": [
       "1057.52281040745"
      ],
      "text/latex": [
       "1057.52281040745"
      ],
      "text/markdown": [
       "1057.52281040745"
      ],
      "text/plain": [
       "[1] 1057.523"
      ]
     },
     "metadata": {},
     "output_type": "display_data"
    },
    {
     "data": {
      "text/html": [
       "<dl>\n",
       "\t<dt>$mu</dt>\n",
       "\t\t<dd>253.033749768989</dd>\n",
       "\t<dt>$sigma</dt>\n",
       "\t\t<dd>77.8938200499352</dd>\n",
       "\t<dt>$ksi</dt>\n",
       "\t\t<dd>0.0437796117797285</dd>\n",
       "</dl>\n"
      ],
      "text/latex": [
       "\\begin{description}\n",
       "\\item[\\$mu] 253.033749768989\n",
       "\\item[\\$sigma] 77.8938200499352\n",
       "\\item[\\$ksi] 0.0437796117797285\n",
       "\\end{description}\n"
      ],
      "text/markdown": [
       "$mu\n",
       ":   253.033749768989\n",
       "$sigma\n",
       ":   77.8938200499352\n",
       "$ksi\n",
       ":   0.0437796117797285\n",
       "\n",
       "\n"
      ],
      "text/plain": [
       "$mu\n",
       "[1] 253.0337\n",
       "\n",
       "$sigma\n",
       "[1] 77.89382\n",
       "\n",
       "$ksi\n",
       "[1] 0.04377961\n"
      ]
     },
     "metadata": {},
     "output_type": "display_data"
    },
    {
     "data": {
      "text/html": [
       "<dl>\n",
       "\t<dt>$mu</dt>\n",
       "\t\t<dd>253.781951654082</dd>\n",
       "\t<dt>$sigma</dt>\n",
       "\t\t<dd>79.024147902072</dd>\n",
       "\t<dt>$ksi</dt>\n",
       "\t\t<dd>0.0438927835540203</dd>\n",
       "</dl>\n"
      ],
      "text/latex": [
       "\\begin{description}\n",
       "\\item[\\$mu] 253.781951654082\n",
       "\\item[\\$sigma] 79.024147902072\n",
       "\\item[\\$ksi] 0.0438927835540203\n",
       "\\end{description}\n"
      ],
      "text/markdown": [
       "$mu\n",
       ":   253.781951654082\n",
       "$sigma\n",
       ":   79.024147902072\n",
       "$ksi\n",
       ":   0.0438927835540203\n",
       "\n",
       "\n"
      ],
      "text/plain": [
       "$mu\n",
       "[1] 253.782\n",
       "\n",
       "$sigma\n",
       "[1] 79.02415\n",
       "\n",
       "$ksi\n",
       "[1] 0.04389278\n"
      ]
     },
     "metadata": {},
     "output_type": "display_data"
    },
    {
     "data": {
      "text/html": [
       "<dl>\n",
       "\t<dt>$mu</dt>\n",
       "\t\t<dd><dl class=dl-horizontal>\n",
       "\t<dt>2.5%</dt>\n",
       "\t\t<dd>222.828330446636</dd>\n",
       "\t<dt>97.5%</dt>\n",
       "\t\t<dd>286.249747672626</dd>\n",
       "</dl>\n",
       "</dd>\n",
       "\t<dt>$sigma</dt>\n",
       "\t\t<dd><dl class=dl-horizontal>\n",
       "\t<dt>2.5%</dt>\n",
       "\t\t<dd>60.2151779782604</dd>\n",
       "\t<dt>97.5%</dt>\n",
       "\t\t<dd>104.31598402965</dd>\n",
       "</dl>\n",
       "</dd>\n",
       "\t<dt>$ksi</dt>\n",
       "\t\t<dd><dl class=dl-horizontal>\n",
       "\t<dt>2.5%</dt>\n",
       "\t\t<dd>0.0278926557369363</dd>\n",
       "\t<dt>97.5%</dt>\n",
       "\t\t<dd>0.0607369258169704</dd>\n",
       "</dl>\n",
       "</dd>\n",
       "</dl>\n"
      ],
      "text/latex": [
       "\\begin{description}\n",
       "\\item[\\$mu] \\begin{description*}\n",
       "\\item[2.5\\textbackslash{}\\%] 222.828330446636\n",
       "\\item[97.5\\textbackslash{}\\%] 286.249747672626\n",
       "\\end{description*}\n",
       "\n",
       "\\item[\\$sigma] \\begin{description*}\n",
       "\\item[2.5\\textbackslash{}\\%] 60.2151779782604\n",
       "\\item[97.5\\textbackslash{}\\%] 104.31598402965\n",
       "\\end{description*}\n",
       "\n",
       "\\item[\\$ksi] \\begin{description*}\n",
       "\\item[2.5\\textbackslash{}\\%] 0.0278926557369363\n",
       "\\item[97.5\\textbackslash{}\\%] 0.0607369258169704\n",
       "\\end{description*}\n",
       "\n",
       "\\end{description}\n"
      ],
      "text/markdown": [
       "$mu\n",
       ":   2.5%\n",
       ":   222.82833044663697.5%\n",
       ":   286.249747672626\n",
       "\n",
       "\n",
       "$sigma\n",
       ":   2.5%\n",
       ":   60.215177978260497.5%\n",
       ":   104.31598402965\n",
       "\n",
       "\n",
       "$ksi\n",
       ":   2.5%\n",
       ":   0.027892655736936397.5%\n",
       ":   0.0607369258169704\n",
       "\n",
       "\n",
       "\n",
       "\n"
      ],
      "text/plain": [
       "$mu\n",
       "    2.5%    97.5% \n",
       "222.8283 286.2497 \n",
       "\n",
       "$sigma\n",
       "     2.5%     97.5% \n",
       " 60.21518 104.31598 \n",
       "\n",
       "$ksi\n",
       "      2.5%      97.5% \n",
       "0.02789266 0.06073693 \n"
      ]
     },
     "metadata": {},
     "output_type": "display_data"
    }
   ],
   "source": [
    "#Default:1\n",
    "# (no extra tempering chains)\n",
    "print(\"100 års returverdi\")\n",
    "gev.returnvalue.quantile(r,100,0.5)\n",
    "# Get T100 median estimate\n",
    "print(\"1000 års returverdi\")\n",
    "gev.returnvalue.quantile(r,1000,0.5)\n",
    "# Get T1000 median estimate\n",
    "print(\"5000 års returverdi\")\n",
    "gev.returnvalue.quantile(r,5000,0.5)\n",
    "# Get median and mean parameter estimates:\n",
    "r$par.median\n",
    "r$par.mean\n",
    "# 95% credibility band:\n",
    "r$par.95cred"
   ]
  },
  {
   "cell_type": "code",
   "execution_count": 6,
   "metadata": {},
   "outputs": [
    {
     "data": {
      "image/png": "[encoded data removed]",
      "text/plain": [
       "Plot with title \"Ekstremverdier snømengde\""
      ]
     },
     "metadata": {},
     "output_type": "display_data"
    }
   ],
   "source": [
    "# Plot median return values\n",
    "options(repr.plot.width=6, repr.plot.height=4)\n",
    "# First, plot data:\n",
    "n=length(y)\n",
    "plot((n+0.12)/(1:n-0.44),sort(y,decreasing=T),log=\"x\",xlim=c(1,1000),ylim=c(min(y),max(y)*2),main='Ekstremverdier snømengde',xlab=\"Returperiode, år\", ylab=\"Snøhøgde (cm)\",tck=1,fg=grey(0.7))\n",
    "\n",
    "# Median return values for return period going from 1 to 5000 years:\n",
    "returntimes=exp(seq(0,log(1000),0.01))\n",
    "lines(returntimes,gev.returnvalue.quantile(r,returntimes,\n",
    "0.5),col=\"red\")\n",
    "# 95% credibility interval:\n",
    "lines(returntimes,gev.returnvalue.quantile(r,returntimes,0.025),col=\"blue\")\n",
    "lines(returntimes,gev.returnvalue.quantile(r,returntimes,0.975),col=\"blue\")\n"
   ]
  },
  {
   "cell_type": "code",
   "execution_count": null,
   "metadata": {},
   "outputs": [],
   "source": []
  },
  {
   "cell_type": "code",
   "execution_count": null,
   "metadata": {},
   "outputs": [],
   "source": []
  },
  {
   "cell_type": "code",
   "execution_count": null,
   "metadata": {},
   "outputs": [],
   "source": []
  }
 ],
 "metadata": {
  "kernelspec": {
   "display_name": "R",
   "language": "R",
   "name": "ir"
  },
  "language_info": {
   "codemirror_mode": "r",
   "file_extension": ".r",
   "mimetype": "text/x-r-source",
   "name": "R",
   "pygments_lexer": "r",
   "version": "3.6.1"
  }
 },
 "nbformat": 4,
 "nbformat_minor": 4
}
